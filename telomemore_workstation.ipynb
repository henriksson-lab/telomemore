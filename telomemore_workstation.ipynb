{
 "cells": [
  {
   "cell_type": "code",
   "execution_count": 58,
   "id": "cf741a7f-7c06-40c6-b9c9-f3bc0593dd71",
   "metadata": {},
   "outputs": [
    {
     "name": "stdout",
     "output_type": "stream",
     "text": [
      "Overwriting telomemore/utils.py\n"
     ]
    }
   ],
   "source": [
    "%%writefile telomemore/utils.py\n",
    "import re\n",
    "from pathlib import Path\n",
    "import pysam\n",
    "\n",
    "class BamFile:\n",
    "    '''Searches through a folder and stores all bam files in a list.'''\n",
    "    \n",
    "    def __init__(self, folder: str):\n",
    "        self.folder = Path(folder)\n",
    "        self.files = sorted([bam for bam in self.folder.rglob('*.bam') if bam.is_file()])\n",
    "\n",
    "class BaseKmerFinder:\n",
    "    '''Superclass for finding kmer in bam file.'''\n",
    "    \n",
    "    def __init__(self, folder: str, pattern: str, out_folder: str):\n",
    "        self.bam = BamFile(folder)\n",
    "        self.pattern = re.compile(pattern)\n",
    "        self.out_folder = Path(out_folder).resolve()\n",
    "        \n",
    "    def _number_telomers(self, sequence: str) -> int:\n",
    "        counts = re.findall(self.pattern, sequence)\n",
    "        return len(counts)\n",
    "\n",
    "\n",
    "    \n",
    "def make_directory(directory: str) -> None:\n",
    "    '''Create directories which does not yet exists'''\n",
    "    \n",
    "    directory = Path(directory)\n",
    "    if not directory.exists():\n",
    "        directory.mkdir(exist_ok=True, parents=True)"
   ]
  },
  {
   "cell_type": "code",
   "execution_count": 39,
   "id": "86727d6c-1547-40b0-993a-796f422036af",
   "metadata": {},
   "outputs": [
    {
     "name": "stdout",
     "output_type": "stream",
     "text": [
      "Overwriting telomemore/countkmers.py\n"
     ]
    }
   ],
   "source": [
    "%%writefile telomemore/countkmers.py\n",
    "from telomemore.utils import BaseKmerFinder\n",
    "from typing import Tuple\n",
    "from collections import Counter, defaultdict\n",
    "import pysam\n",
    "from pathlib import Path\n",
    "import pandas as pd\n",
    "\n",
    "class CountKmers(BaseKmerFinder):\n",
    "    '''Finds occurances of kmers in bam file and stores'''\n",
    "    \n",
    "    def __init__(self, input_folder: str, pattern: str, output_folder: str):\n",
    "        super().__init__(input_folder, pattern, output_folder)\n",
    "        \n",
    "    def _k_mer_per_read(self, bamfile: Path) -> Tuple[dict, int]:\n",
    "        '''Counts number of kmer in each read and stores the number in list.'''\n",
    "        kmer_counts = []\n",
    "        missed_reads = 0\n",
    "        for read in bamfile:\n",
    "            try:\n",
    "                counts = self._number_telomers(read.seq)\n",
    "                kmer_counts.append(counts)\n",
    "            except Exception:\n",
    "                missed_reads += 1\n",
    "\n",
    "        counter = Counter(kmer_counts)\n",
    "        return counter, missed_reads\n",
    "    \n",
    "    def run_program(self):\n",
    "        '''Outputs a csv file with information about kmer occurance for each bam file in the folder.'''\n",
    "        \n",
    "        for file in self.bam.files:\n",
    "            sam = pysam.AlignmentFile(file, 'rb')\n",
    "            \n",
    "            print(f'Looking for {self.pattern.pattern} in {file}')\n",
    "            \n",
    "            counter, missed_reads = self._k_mer_per_read(sam)\n",
    "            \n",
    "            # TODO the folder name instead of file name\n",
    "            kmer_file = self.out_folder / f'{file.stem}_{self.pattern.pattern}_kmer.csv'\n",
    "            exception_file = self.out_folder / f'{file.stem}_missed_reads.txt'\n",
    "            \n",
    "            number = [key for key in counter.keys()]\n",
    "            count = [value for value in counter.values()]\n",
    "            \n",
    "            pd.DataFrame({'number': number, 'count': count}).to_csv(kmer_file, index=False)\n",
    "            \n",
    "            with open(exception_file, 'w+') as missed:\n",
    "                print(f'Reads that could not be read in {file}: {missed_reads}', file=missed)\n",
    "            \n",
    "            print(f'Done with {file}')"
   ]
  },
  {
   "cell_type": "code",
   "execution_count": 40,
   "id": "7ccfeb60-cfb2-4bbe-8b43-685f64c013e4",
   "metadata": {},
   "outputs": [
    {
     "name": "stdout",
     "output_type": "stream",
     "text": [
      "Overwriting telomemore/counttelomeres.py\n"
     ]
    }
   ],
   "source": [
    "%%writefile telomemore/counttelomeres.py\n",
    "from telomemore.utils import BaseKmerFinder\n",
    "from typing import Tuple\n",
    "from collections import Counter, defaultdict\n",
    "import pysam\n",
    "from pathlib import Path\n",
    "import pandas as pd\n",
    "\n",
    "class CountTelomeres(BaseKmerFinder):\n",
    "    '''Counts number of telomeres in all bam files in the input folder'''\n",
    "\n",
    "    def __init__(self, input_folder: str, pattern: str, output_folder: str, cutoff: int):\n",
    "        super().__init__(input_folder, pattern, output_folder)\n",
    "        self.cutoff = cutoff\n",
    "        \n",
    "\n",
    "    def _telomere_counts(self, sam: pysam.AlignmentFile) -> Tuple[dict, dict, int]:\n",
    "        '''Counts number of telomeres and returns the total reads per cells, telomeres per cells and reads with missed barcodes.'''\n",
    "        telomeres_cells = defaultdict(int)\n",
    "        total_reads_cells = defaultdict(int)\n",
    "        missed_barcodes = 0\n",
    "    \n",
    "        for read in sam:\n",
    "            try:\n",
    "                total_reads_cells[read.get_tag('CB')] += 1 \n",
    "                # adds the key to the dict and initializes it to 0 \n",
    "                telomeres_cells[read.get_tag('CB')]\n",
    "                if self._number_telomers(read.seq) >= self.cutoff:\n",
    "                    telomeres_cells[read.get_tag('CB')] += 1\n",
    "            except Exception:\n",
    "                missed_barcodes += 1\n",
    "\n",
    "        return telomeres_cells, total_reads_cells, missed_barcodes\n",
    "        \n",
    "    \n",
    "    def run_program(self) -> None:\n",
    "        '''Generates teleomere counts for each bam file in the input folder. Writes the results as csv files.'''\n",
    "        \n",
    "        for file in self.bam.files:\n",
    "            \n",
    "            telomere_file = self.out_folder / f'{file.stem}_telomeres_{self.pattern.pattern}.csv'\n",
    "            totalreads_file = self.out_folder / f'{file.stem}_total_reads.csv'\n",
    "            missed_barcods_file = self.out_folder / f'{file.stem}_missed_barcodes.txt'\n",
    "            \n",
    "            sam = pysam.AlignmentFile(file, 'rb')\n",
    "            \n",
    "            print(f'Looking for {self.pattern.pattern} in {file}')\n",
    "            \n",
    "            telomeres_dict, total_dict, missed_barcodes = self._telomere_counts(sam)\n",
    "\n",
    "            with open(telomere_file, 'a+') as telomere:\n",
    "                for key, value in telomeres_dict.items():\n",
    "                    print(f'{key},{value}', file=telomere)\n",
    "\n",
    "            with open(totalreads_file, 'a+') as total:\n",
    "                for key, value in total_dict.items():\n",
    "                    print(f'{key},{value}', file=total)\n",
    "\n",
    "            with open(missed_barcods_file, 'w+') as missed:\n",
    "                print(f'Number of missed barcodes = {missed_barcodes}', file=missed)\n",
    "                \n",
    "            print(f'Done with {file}')\n",
    "\n",
    "\n"
   ]
  },
  {
   "cell_type": "code",
   "execution_count": 57,
   "id": "047ce537-31d2-4815-92a0-506d8a47005c",
   "metadata": {},
   "outputs": [
    {
     "name": "stdout",
     "output_type": "stream",
     "text": [
      "Overwriting telomemore/cli.py\n"
     ]
    }
   ],
   "source": [
    "%%writefile telomemore/cli.py\n",
    "import click\n",
    "from telomemore.countkmers import CountKmers\n",
    "from telomemore.counttelomeres import CountTelomeres\n",
    " \n",
    "@click.group()\n",
    "def cli():\n",
    "    '''WELCOME TO teloMeMore'''\n",
    "    \n",
    "    pass\n",
    "\n",
    "             \n",
    "@cli.command()\n",
    "@click.argument('input_folder')\n",
    "@click.argument('output_folder')\n",
    "@click.argument('pattern')\n",
    "def count_kmers(input_folder, output_folder, pattern):\n",
    "    '''Count the occurances of kmers user specifies and stores the results in a csv file. \n",
    "    Finds all bam files in the input folder and output files is stored in output folder.\n",
    "    \n",
    "    Required arguments: \n",
    "    input_folder,\n",
    "    output_folder,\n",
    "    pattern. '''\n",
    "    \n",
    "    kmers = CountKmers(input_folder=input_folder, output_folder=output_folder, pattern=pattern)\n",
    "    kmers.run_program()\n",
    "    \n",
    "    \n",
    "    \n",
    "@cli.command()\n",
    "@click.argument('input_folder')\n",
    "@click.argument('output_folder')\n",
    "@click.argument('pattern')\n",
    "@click.argument('cutoff')\n",
    "def count_telomeres(input_folder, output_folder, pattern, cutoff):\n",
    "    '''Count the occurances of telomere read in each cell. The telomere is defined by the user, as a read\n",
    "    which contains the pattern a number of times above the specified cutoff.\n",
    "    The program goes through all bam files in the input folder and stores the results as csv files in the output\n",
    "    folder.\n",
    "    A cell is defined by the cell barcode in the bam file.\n",
    "    \n",
    "    Required arguments: \n",
    "    input_folder,\n",
    "    output_folder,\n",
    "    pattern,\n",
    "    cutoff.'''\n",
    "    \n",
    "    telomeres = CountTelomeres(input_folder=input_folder, output_folder=output_folder, pattern=pattern, cutoff=cutoff)\n",
    "    telomeres.run_program()"
   ]
  },
  {
   "cell_type": "code",
   "execution_count": null,
   "id": "579c5771-e45b-41a9-84a0-54b55c9e8852",
   "metadata": {},
   "outputs": [],
   "source": [
    "class WriteCSV:\n",
    "    pass\n",
    "\n",
    "class Plot:\n",
    "    pass\n",
    "\n"
   ]
  },
  {
   "cell_type": "code",
   "execution_count": 44,
   "id": "f94d37d0-706a-4190-966e-19500346f00e",
   "metadata": {},
   "outputs": [
    {
     "name": "stdout",
     "output_type": "stream",
     "text": [
      "Looking for AAA in /Users/williamrosenbaum/Bioinformatics/smallTseq/testar_lite/bowtie2/processed/aligned/sample1_umi_tools_extract_cutadapt_bowtie2.bam\n",
      "Done with /Users/williamrosenbaum/Bioinformatics/smallTseq/testar_lite/bowtie2/processed/aligned/sample1_umi_tools_extract_cutadapt_bowtie2.bam\n",
      "Looking for AAA in /Users/williamrosenbaum/Bioinformatics/smallTseq/testar_lite/bowtie2/processed/aligned/sample2_umi_tools_extract_cutadapt_bowtie2.bam\n",
      "Done with /Users/williamrosenbaum/Bioinformatics/smallTseq/testar_lite/bowtie2/processed/aligned/sample2_umi_tools_extract_cutadapt_bowtie2.bam\n",
      "Looking for AAA in /Users/williamrosenbaum/Bioinformatics/smallTseq/testar_lite/bowtie2/processed/aligned/sample3_umi_tools_extract_cutadapt_bowtie2.bam\n",
      "Done with /Users/williamrosenbaum/Bioinformatics/smallTseq/testar_lite/bowtie2/processed/aligned/sample3_umi_tools_extract_cutadapt_bowtie2.bam\n",
      "Looking for AAA in /Users/williamrosenbaum/Bioinformatics/smallTseq/testar_lite/umi_tools/processed/dedup/sample1_umi_tools_extract_cutadapt_bowtie2_umi_tools_dedup.bam\n",
      "Done with /Users/williamrosenbaum/Bioinformatics/smallTseq/testar_lite/umi_tools/processed/dedup/sample1_umi_tools_extract_cutadapt_bowtie2_umi_tools_dedup.bam\n",
      "Looking for AAA in /Users/williamrosenbaum/Bioinformatics/smallTseq/testar_lite/umi_tools/processed/dedup/sample2_umi_tools_extract_cutadapt_bowtie2_umi_tools_dedup.bam\n",
      "Done with /Users/williamrosenbaum/Bioinformatics/smallTseq/testar_lite/umi_tools/processed/dedup/sample2_umi_tools_extract_cutadapt_bowtie2_umi_tools_dedup.bam\n",
      "Looking for AAA in /Users/williamrosenbaum/Bioinformatics/smallTseq/testar_lite/umi_tools/processed/dedup/sample3_umi_tools_extract_cutadapt_bowtie2_umi_tools_dedup.bam\n",
      "Done with /Users/williamrosenbaum/Bioinformatics/smallTseq/testar_lite/umi_tools/processed/dedup/sample3_umi_tools_extract_cutadapt_bowtie2_umi_tools_dedup.bam\n"
     ]
    }
   ],
   "source": [
    "from telomemore.countkmers import CountKmers\n",
    "\n",
    "test = CountKmers('/Users/williamrosenbaum/Bioinformatics/smallTseq/', 'AAA', 'TESTAR/')\n",
    "\n",
    "test.run_program()"
   ]
  }
 ],
 "metadata": {
  "kernelspec": {
   "display_name": "Python 3 (ipykernel)",
   "language": "python",
   "name": "python3"
  },
  "language_info": {
   "codemirror_mode": {
    "name": "ipython",
    "version": 3
   },
   "file_extension": ".py",
   "mimetype": "text/x-python",
   "name": "python",
   "nbconvert_exporter": "python",
   "pygments_lexer": "ipython3",
   "version": "3.9.7"
  }
 },
 "nbformat": 4,
 "nbformat_minor": 5
}
